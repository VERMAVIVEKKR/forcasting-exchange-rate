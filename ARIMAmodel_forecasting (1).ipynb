{
 "cells": [
  {
   "cell_type": "markdown",
   "metadata": {},
   "source": [
    "# ARIMA model"
   ]
  },
  {
   "cell_type": "code",
   "execution_count": 1,
   "metadata": {
    "id": "sCMzDzpTmmvJ"
   },
   "outputs": [],
   "source": [
    "import numpy as np\n",
    "import matplotlib.pyplot as plt \n",
    "import pandas as pd"
   ]
  },
  {
   "cell_type": "code",
   "execution_count": 2,
   "metadata": {
    "colab": {
     "base_uri": "https://localhost:8080/",
     "height": 235
    },
    "id": "arKEqJWEunT-",
    "outputId": "a426a140-d102-4f55-d576-1c509d7fef3b"
   },
   "outputs": [
    {
     "data": {
      "text/html": [
       "<div>\n",
       "<style scoped>\n",
       "    .dataframe tbody tr th:only-of-type {\n",
       "        vertical-align: middle;\n",
       "    }\n",
       "\n",
       "    .dataframe tbody tr th {\n",
       "        vertical-align: top;\n",
       "    }\n",
       "\n",
       "    .dataframe thead th {\n",
       "        text-align: right;\n",
       "    }\n",
       "</style>\n",
       "<table border=\"1\" class=\"dataframe\">\n",
       "  <thead>\n",
       "    <tr style=\"text-align: right;\">\n",
       "      <th></th>\n",
       "      <th>Value</th>\n",
       "    </tr>\n",
       "    <tr>\n",
       "      <th>Date</th>\n",
       "      <th></th>\n",
       "    </tr>\n",
       "  </thead>\n",
       "  <tbody>\n",
       "    <tr>\n",
       "      <th>1973-02-01</th>\n",
       "      <td>8.02</td>\n",
       "    </tr>\n",
       "    <tr>\n",
       "      <th>1973-03-01</th>\n",
       "      <td>8.02</td>\n",
       "    </tr>\n",
       "    <tr>\n",
       "      <th>1973-04-01</th>\n",
       "      <td>8.00</td>\n",
       "    </tr>\n",
       "    <tr>\n",
       "      <th>1973-05-01</th>\n",
       "      <td>8.01</td>\n",
       "    </tr>\n",
       "    <tr>\n",
       "      <th>1973-08-01</th>\n",
       "      <td>8.00</td>\n",
       "    </tr>\n",
       "  </tbody>\n",
       "</table>\n",
       "</div>"
      ],
      "text/plain": [
       "            Value\n",
       "Date             \n",
       "1973-02-01   8.02\n",
       "1973-03-01   8.02\n",
       "1973-04-01   8.00\n",
       "1973-05-01   8.01\n",
       "1973-08-01   8.00"
      ]
     },
     "execution_count": 2,
     "metadata": {},
     "output_type": "execute_result"
    }
   ],
   "source": [
    "df = pd.read_csv(\"/content/DEXINUS_edited()_final.csv\",index_col= 'Date', parse_dates=True)\n",
    "\n",
    "df.head()\n",
    " "
   ]
  },
  {
   "cell_type": "code",
   "execution_count": 3,
   "metadata": {
    "colab": {
     "base_uri": "https://localhost:8080/"
    },
    "id": "jYzwdq02unZ-",
    "outputId": "94b2c69d-38d5-4069-ba16-be4ef241a0b0"
   },
   "outputs": [
    {
     "data": {
      "text/plain": [
       "(12649, 1)"
      ]
     },
     "execution_count": 3,
     "metadata": {},
     "output_type": "execute_result"
    }
   ],
   "source": [
    "df.shape"
   ]
  },
  {
   "cell_type": "code",
   "execution_count": 4,
   "metadata": {
    "colab": {
     "base_uri": "https://localhost:8080/",
     "height": 338
    },
    "id": "63jWiNPLundp",
    "outputId": "398b7571-a3d8-4cc5-8538-3d1315dbf638"
   },
   "outputs": [
    {
     "data": {
      "text/plain": [
       "<matplotlib.axes._subplots.AxesSubplot at 0x7f2c9b392990>"
      ]
     },
     "execution_count": 4,
     "metadata": {},
     "output_type": "execute_result"
    },
    {
     "data": {
      "image/png": "[encoded data removed]",
      "text/plain": [
       "<Figure size 864x360 with 1 Axes>"
      ]
     },
     "metadata": {
      "needs_background": "light"
     },
     "output_type": "display_data"
    }
   ],
   "source": [
    "df['Value'].plot(figsize=(12,5))"
   ]
  },
  {
   "cell_type": "code",
   "execution_count": 5,
   "metadata": {
    "colab": {
     "base_uri": "https://localhost:8080/"
    },
    "id": "F7lX9C8Funib",
    "outputId": "3f825dec-7bc9-4bae-8ad5-b99a84f099fc"
   },
   "outputs": [
    {
     "name": "stdout",
     "output_type": "stream",
     "text": [
      "Collecting pmdarima\n",
      "  Downloading pmdarima-1.8.2-cp37-cp37m-manylinux1_x86_64.whl (1.5 MB)\n",
      "\u001b[K     |████████████████████████████████| 1.5 MB 5.2 MB/s \n",
      "\u001b[?25hRequirement already satisfied: scipy>=1.3.2 in /usr/local/lib/python3.7/dist-packages (from pmdarima) (1.4.1)\n",
      "Requirement already satisfied: pandas>=0.19 in /usr/local/lib/python3.7/dist-packages (from pmdarima) (1.1.5)\n",
      "Requirement already satisfied: scikit-learn>=0.22 in /usr/local/lib/python3.7/dist-packages (from pmdarima) (0.22.2.post1)\n",
      "Requirement already satisfied: numpy~=1.19.0 in /usr/local/lib/python3.7/dist-packages (from pmdarima) (1.19.5)\n",
      "Requirement already satisfied: urllib3 in /usr/local/lib/python3.7/dist-packages (from pmdarima) (1.24.3)\n",
      "Requirement already satisfied: joblib>=0.11 in /usr/local/lib/python3.7/dist-packages (from pmdarima) (1.0.1)\n",
      "Requirement already satisfied: Cython!=0.29.18,>=0.29 in /usr/local/lib/python3.7/dist-packages (from pmdarima) (0.29.24)\n",
      "Collecting statsmodels!=0.12.0,>=0.11\n",
      "  Downloading statsmodels-0.12.2-cp37-cp37m-manylinux1_x86_64.whl (9.5 MB)\n",
      "\u001b[K     |████████████████████████████████| 9.5 MB 53.4 MB/s \n",
      "\u001b[?25hRequirement already satisfied: setuptools!=50.0.0,>=38.6.0 in /usr/local/lib/python3.7/dist-packages (from pmdarima) (57.4.0)\n",
      "Requirement already satisfied: pytz>=2017.2 in /usr/local/lib/python3.7/dist-packages (from pandas>=0.19->pmdarima) (2018.9)\n",
      "Requirement already satisfied: python-dateutil>=2.7.3 in /usr/local/lib/python3.7/dist-packages (from pandas>=0.19->pmdarima) (2.8.2)\n",
      "Requirement already satisfied: six>=1.5 in /usr/local/lib/python3.7/dist-packages (from python-dateutil>=2.7.3->pandas>=0.19->pmdarima) (1.15.0)\n",
      "Requirement already satisfied: patsy>=0.5 in /usr/local/lib/python3.7/dist-packages (from statsmodels!=0.12.0,>=0.11->pmdarima) (0.5.1)\n",
      "Installing collected packages: statsmodels, pmdarima\n",
      "  Attempting uninstall: statsmodels\n",
      "    Found existing installation: statsmodels 0.10.2\n",
      "    Uninstalling statsmodels-0.10.2:\n",
      "      Successfully uninstalled statsmodels-0.10.2\n",
      "Successfully installed pmdarima-1.8.2 statsmodels-0.12.2\n"
     ]
    }
   ],
   "source": [
    "pip install pmdarima"
   ]
  },
  {
   "cell_type": "code",
   "execution_count": 6,
   "metadata": {
    "id": "LL7NJNgkuntT"
   },
   "outputs": [],
   "source": [
    "from pmdarima import auto_arima \n",
    "import warnings\n",
    "warnings.filterwarnings(\"ignore\")"
   ]
  },
  {
   "cell_type": "markdown",
   "metadata": {},
   "source": [
    "Get best p,d,q value for ARIMA model The goal is to minimize the AIC and get the best order with the lowest AIC"
   ]
  },
  {
   "cell_type": "code",
   "execution_count": 7,
   "metadata": {
    "colab": {
     "base_uri": "https://localhost:8080/",
     "height": 830
    },
    "id": "Se7aM996vJir",
    "outputId": "aca3b76f-6a47-4736-9286-58af4abdf0d8"
   },
   "outputs": [
    {
     "name": "stdout",
     "output_type": "stream",
     "text": [
      "Performing stepwise search to minimize aic\n",
      " ARIMA(2,1,2)(0,0,0)[0] intercept   : AIC=-8087.230, Time=28.76 sec\n",
      " ARIMA(0,1,0)(0,0,0)[0] intercept   : AIC=-8023.371, Time=3.07 sec\n",
      " ARIMA(1,1,0)(0,0,0)[0] intercept   : AIC=-8035.412, Time=1.04 sec\n",
      " ARIMA(0,1,1)(0,0,0)[0] intercept   : AIC=-8036.942, Time=3.10 sec\n",
      " ARIMA(0,1,0)(0,0,0)[0]             : AIC=-8014.239, Time=0.29 sec\n",
      " ARIMA(1,1,2)(0,0,0)[0] intercept   : AIC=-8061.265, Time=17.10 sec\n",
      " ARIMA(2,1,1)(0,0,0)[0] intercept   : AIC=-8063.398, Time=12.59 sec\n",
      " ARIMA(3,1,2)(0,0,0)[0] intercept   : AIC=-8071.131, Time=19.43 sec\n",
      " ARIMA(2,1,3)(0,0,0)[0] intercept   : AIC=-8103.478, Time=29.07 sec\n",
      " ARIMA(1,1,3)(0,0,0)[0] intercept   : AIC=-8059.122, Time=9.53 sec\n",
      " ARIMA(3,1,3)(0,0,0)[0] intercept   : AIC=-8100.887, Time=25.32 sec\n",
      " ARIMA(2,1,4)(0,0,0)[0] intercept   : AIC=-8102.195, Time=38.51 sec\n",
      " ARIMA(1,1,4)(0,0,0)[0] intercept   : AIC=-8086.583, Time=27.00 sec\n",
      " ARIMA(3,1,4)(0,0,0)[0] intercept   : AIC=-8099.317, Time=49.05 sec\n",
      " ARIMA(2,1,3)(0,0,0)[0]             : AIC=-8092.890, Time=8.09 sec\n",
      "\n",
      "Best model:  ARIMA(2,1,3)(0,0,0)[0] intercept\n",
      "Total fit time: 272.006 seconds\n"
     ]
    },
    {
     "data": {
      "text/html": [
       "<table class=\"simpletable\">\n",
       "<caption>SARIMAX Results</caption>\n",
       "<tr>\n",
       "  <th>Dep. Variable:</th>           <td>y</td>        <th>  No. Observations:  </th>   <td>12649</td>  \n",
       "</tr>\n",
       "<tr>\n",
       "  <th>Model:</th>           <td>SARIMAX(2, 1, 3)</td> <th>  Log Likelihood     </th> <td>4058.739</td> \n",
       "</tr>\n",
       "<tr>\n",
       "  <th>Date:</th>            <td>Thu, 19 Aug 2021</td> <th>  AIC                </th> <td>-8103.478</td>\n",
       "</tr>\n",
       "<tr>\n",
       "  <th>Time:</th>                <td>09:22:52</td>     <th>  BIC                </th> <td>-8051.362</td>\n",
       "</tr>\n",
       "<tr>\n",
       "  <th>Sample:</th>                  <td>0</td>        <th>  HQIC               </th> <td>-8086.041</td>\n",
       "</tr>\n",
       "<tr>\n",
       "  <th></th>                     <td> - 12649</td>     <th>                     </th>     <td> </td>    \n",
       "</tr>\n",
       "<tr>\n",
       "  <th>Covariance Type:</th>        <td>opg</td>       <th>                     </th>     <td> </td>    \n",
       "</tr>\n",
       "</table>\n",
       "<table class=\"simpletable\">\n",
       "<tr>\n",
       "      <td></td>         <th>coef</th>     <th>std err</th>      <th>z</th>      <th>P>|z|</th>  <th>[0.025</th>    <th>0.975]</th>  \n",
       "</tr>\n",
       "<tr>\n",
       "  <th>intercept</th> <td>    0.0064</td> <td>    0.002</td> <td>    3.390</td> <td> 0.001</td> <td>    0.003</td> <td>    0.010</td>\n",
       "</tr>\n",
       "<tr>\n",
       "  <th>ar.L1</th>     <td>    0.5843</td> <td>    0.028</td> <td>   20.647</td> <td> 0.000</td> <td>    0.529</td> <td>    0.640</td>\n",
       "</tr>\n",
       "<tr>\n",
       "  <th>ar.L2</th>     <td>   -0.8157</td> <td>    0.018</td> <td>  -44.810</td> <td> 0.000</td> <td>   -0.851</td> <td>   -0.780</td>\n",
       "</tr>\n",
       "<tr>\n",
       "  <th>ma.L1</th>     <td>   -0.6209</td> <td>    0.029</td> <td>  -21.746</td> <td> 0.000</td> <td>   -0.677</td> <td>   -0.565</td>\n",
       "</tr>\n",
       "<tr>\n",
       "  <th>ma.L2</th>     <td>    0.7933</td> <td>    0.020</td> <td>   38.757</td> <td> 0.000</td> <td>    0.753</td> <td>    0.833</td>\n",
       "</tr>\n",
       "<tr>\n",
       "  <th>ma.L3</th>     <td>   -0.0114</td> <td>    0.006</td> <td>   -2.057</td> <td> 0.040</td> <td>   -0.022</td> <td>   -0.001</td>\n",
       "</tr>\n",
       "<tr>\n",
       "  <th>sigma2</th>    <td>    0.0308</td> <td> 8.83e-05</td> <td>  348.799</td> <td> 0.000</td> <td>    0.031</td> <td>    0.031</td>\n",
       "</tr>\n",
       "</table>\n",
       "<table class=\"simpletable\">\n",
       "<tr>\n",
       "  <th>Ljung-Box (L1) (Q):</th>     <td>0.00</td>  <th>  Jarque-Bera (JB):  </th> <td>893443.23</td>\n",
       "</tr>\n",
       "<tr>\n",
       "  <th>Prob(Q):</th>                <td>1.00</td>  <th>  Prob(JB):          </th>   <td>0.00</td>   \n",
       "</tr>\n",
       "<tr>\n",
       "  <th>Heteroskedasticity (H):</th> <td>29.31</td> <th>  Skew:              </th>   <td>1.66</td>   \n",
       "</tr>\n",
       "<tr>\n",
       "  <th>Prob(H) (two-sided):</th>    <td>0.00</td>  <th>  Kurtosis:          </th>   <td>44.04</td>  \n",
       "</tr>\n",
       "</table><br/><br/>Warnings:<br/>[1] Covariance matrix calculated using the outer product of gradients (complex-step)."
      ],
      "text/plain": [
       "<class 'statsmodels.iolib.summary.Summary'>\n",
       "\"\"\"\n",
       "                               SARIMAX Results                                \n",
       "==============================================================================\n",
       "Dep. Variable:                      y   No. Observations:                12649\n",
       "Model:               SARIMAX(2, 1, 3)   Log Likelihood                4058.739\n",
       "Date:                Thu, 19 Aug 2021   AIC                          -8103.478\n",
       "Time:                        09:22:52   BIC                          -8051.362\n",
       "Sample:                             0   HQIC                         -8086.041\n",
       "                              - 12649                                         \n",
       "Covariance Type:                  opg                                         \n",
       "==============================================================================\n",
       "                 coef    std err          z      P>|z|      [0.025      0.975]\n",
       "------------------------------------------------------------------------------\n",
       "intercept      0.0064      0.002      3.390      0.001       0.003       0.010\n",
       "ar.L1          0.5843      0.028     20.647      0.000       0.529       0.640\n",
       "ar.L2         -0.8157      0.018    -44.810      0.000      -0.851      -0.780\n",
       "ma.L1         -0.6209      0.029    -21.746      0.000      -0.677      -0.565\n",
       "ma.L2          0.7933      0.020     38.757      0.000       0.753       0.833\n",
       "ma.L3         -0.0114      0.006     -2.057      0.040      -0.022      -0.001\n",
       "sigma2         0.0308   8.83e-05    348.799      0.000       0.031       0.031\n",
       "===================================================================================\n",
       "Ljung-Box (L1) (Q):                   0.00   Jarque-Bera (JB):            893443.23\n",
       "Prob(Q):                              1.00   Prob(JB):                         0.00\n",
       "Heteroskedasticity (H):              29.31   Skew:                             1.66\n",
       "Prob(H) (two-sided):                  0.00   Kurtosis:                        44.04\n",
       "===================================================================================\n",
       "\n",
       "Warnings:\n",
       "[1] Covariance matrix calculated using the outer product of gradients (complex-step).\n",
       "\"\"\""
      ]
     },
     "execution_count": 7,
     "metadata": {},
     "output_type": "execute_result"
    }
   ],
   "source": [
    "stepwise_fit = auto_arima(df['Value'], trace=True, suppress_warnings=True)\n",
    "stepwise_fit.summary()"
   ]
  },
  {
   "cell_type": "code",
   "execution_count": 8,
   "metadata": {
    "colab": {
     "base_uri": "https://localhost:8080/"
    },
    "id": "m_xwaJ11vJns",
    "outputId": "869271de-eed2-4d4b-ec9f-b2f9d8a372ef"
   },
   "outputs": [
    {
     "name": "stdout",
     "output_type": "stream",
     "text": [
      "(12649, 1)\n"
     ]
    }
   ],
   "source": [
    "print(df.shape)"
   ]
  },
  {
   "cell_type": "code",
   "execution_count": 9,
   "metadata": {
    "id": "JD6cTiFrL7Ae"
   },
   "outputs": [],
   "source": [
    "from statsmodels.tsa.stattools import adfuller"
   ]
  },
  {
   "cell_type": "code",
   "execution_count": 10,
   "metadata": {
    "colab": {
     "base_uri": "https://localhost:8080/"
    },
    "id": "gbmfhGm-L-8W",
    "outputId": "4eddf144-75a4-47b0-9aca-431b8b4b34ab"
   },
   "outputs": [
    {
     "data": {
      "text/plain": [
       "(0.6320006223926241,\n",
       " 0.9883783969303007,\n",
       " 37,\n",
       " 12611,\n",
       " {'1%': -3.4308686449575485,\n",
       "  '10%': -2.56689200640251,\n",
       "  '5%': -2.8617692154460714},\n",
       " -8076.628404652416)"
      ]
     },
     "execution_count": 10,
     "metadata": {},
     "output_type": "execute_result"
    }
   ],
   "source": [
    "adfuller(df.Value)"
   ]
  },
  {
   "cell_type": "code",
   "execution_count": 12,
   "metadata": {
    "colab": {
     "base_uri": "https://localhost:8080/"
    },
    "id": "5moH7i6PvJs6",
    "outputId": "523431d5-c294-43ae-fece-6b701d3a23b6"
   },
   "outputs": [
    {
     "name": "stdout",
     "output_type": "stream",
     "text": [
      "(10000, 1) (2649, 1)\n"
     ]
    }
   ],
   "source": [
    "from statsmodels.tsa.arima_model import ARIMA\n",
    "train=df.iloc[:-2649]\n",
    "test=df.iloc[-2649:]\n",
    "print(train.shape, test.shape)"
   ]
  },
  {
   "cell_type": "code",
   "execution_count": 13,
   "metadata": {
    "colab": {
     "base_uri": "https://localhost:8080/",
     "height": 460
    },
    "id": "_Zfo6NPKvJyu",
    "outputId": "571480c9-419f-44aa-d025-4b80c6db031b",
    "scrolled": true
   },
   "outputs": [
    {
     "data": {
      "text/html": [
       "<table class=\"simpletable\">\n",
       "<caption>ARIMA Model Results</caption>\n",
       "<tr>\n",
       "  <th>Dep. Variable:</th>      <td>D.Value</td>     <th>  No. Observations:  </th>    <td>9999</td>   \n",
       "</tr>\n",
       "<tr>\n",
       "  <th>Model:</th>          <td>ARIMA(2, 1, 3)</td>  <th>  Log Likelihood     </th>  <td>6204.851</td> \n",
       "</tr>\n",
       "<tr>\n",
       "  <th>Method:</th>             <td>css-mle</td>     <th>  S.D. of innovations</th>    <td>0.130</td>  \n",
       "</tr>\n",
       "<tr>\n",
       "  <th>Date:</th>          <td>Thu, 19 Aug 2021</td> <th>  AIC                </th> <td>-12395.702</td>\n",
       "</tr>\n",
       "<tr>\n",
       "  <th>Time:</th>              <td>09:24:29</td>     <th>  BIC                </th> <td>-12345.231</td>\n",
       "</tr>\n",
       "<tr>\n",
       "  <th>Sample:</th>                <td>1</td>        <th>  HQIC               </th> <td>-12378.618</td>\n",
       "</tr>\n",
       "<tr>\n",
       "  <th></th>                       <td> </td>        <th>                     </th>      <td> </td>    \n",
       "</tr>\n",
       "</table>\n",
       "<table class=\"simpletable\">\n",
       "<tr>\n",
       "        <td></td>           <th>coef</th>     <th>std err</th>      <th>z</th>      <th>P>|z|</th>  <th>[0.025</th>    <th>0.975]</th>  \n",
       "</tr>\n",
       "<tr>\n",
       "  <th>const</th>         <td>    0.0036</td> <td>    0.001</td> <td>    2.947</td> <td> 0.003</td> <td>    0.001</td> <td>    0.006</td>\n",
       "</tr>\n",
       "<tr>\n",
       "  <th>ar.L1.D.Value</th> <td>   -1.3934</td> <td>    0.144</td> <td>   -9.661</td> <td> 0.000</td> <td>   -1.676</td> <td>   -1.111</td>\n",
       "</tr>\n",
       "<tr>\n",
       "  <th>ar.L2.D.Value</th> <td>   -0.5990</td> <td>    0.150</td> <td>   -3.997</td> <td> 0.000</td> <td>   -0.893</td> <td>   -0.305</td>\n",
       "</tr>\n",
       "<tr>\n",
       "  <th>ma.L1.D.Value</th> <td>    1.3270</td> <td>    0.145</td> <td>    9.176</td> <td> 0.000</td> <td>    1.044</td> <td>    1.610</td>\n",
       "</tr>\n",
       "<tr>\n",
       "  <th>ma.L2.D.Value</th> <td>    0.5172</td> <td>    0.142</td> <td>    3.646</td> <td> 0.000</td> <td>    0.239</td> <td>    0.795</td>\n",
       "</tr>\n",
       "<tr>\n",
       "  <th>ma.L3.D.Value</th> <td>   -0.0140</td> <td>    0.017</td> <td>   -0.839</td> <td> 0.401</td> <td>   -0.047</td> <td>    0.019</td>\n",
       "</tr>\n",
       "</table>\n",
       "<table class=\"simpletable\">\n",
       "<caption>Roots</caption>\n",
       "<tr>\n",
       "    <td></td>   <th>            Real</th>  <th>         Imaginary</th> <th>         Modulus</th>  <th>        Frequency</th>\n",
       "</tr>\n",
       "<tr>\n",
       "  <th>AR.1</th> <td>          -1.1632</td> <td>          -0.5627j</td> <td>           1.2921</td> <td>          -0.4283</td>\n",
       "</tr>\n",
       "<tr>\n",
       "  <th>AR.2</th> <td>          -1.1632</td> <td>          +0.5627j</td> <td>           1.2921</td> <td>           0.4283</td>\n",
       "</tr>\n",
       "<tr>\n",
       "  <th>MA.1</th> <td>          -1.2260</td> <td>          -0.5567j</td> <td>           1.3464</td> <td>          -0.4322</td>\n",
       "</tr>\n",
       "<tr>\n",
       "  <th>MA.2</th> <td>          -1.2260</td> <td>          +0.5567j</td> <td>           1.3464</td> <td>           0.4322</td>\n",
       "</tr>\n",
       "<tr>\n",
       "  <th>MA.3</th> <td>          39.3037</td> <td>          -0.0000j</td> <td>          39.3037</td> <td>          -0.0000</td>\n",
       "</tr>\n",
       "</table>"
      ],
      "text/plain": [
       "<class 'statsmodels.iolib.summary.Summary'>\n",
       "\"\"\"\n",
       "                             ARIMA Model Results                              \n",
       "==============================================================================\n",
       "Dep. Variable:                D.Value   No. Observations:                 9999\n",
       "Model:                 ARIMA(2, 1, 3)   Log Likelihood                6204.851\n",
       "Method:                       css-mle   S.D. of innovations              0.130\n",
       "Date:                Thu, 19 Aug 2021   AIC                         -12395.702\n",
       "Time:                        09:24:29   BIC                         -12345.231\n",
       "Sample:                             1   HQIC                        -12378.618\n",
       "                                                                              \n",
       "=================================================================================\n",
       "                    coef    std err          z      P>|z|      [0.025      0.975]\n",
       "---------------------------------------------------------------------------------\n",
       "const             0.0036      0.001      2.947      0.003       0.001       0.006\n",
       "ar.L1.D.Value    -1.3934      0.144     -9.661      0.000      -1.676      -1.111\n",
       "ar.L2.D.Value    -0.5990      0.150     -3.997      0.000      -0.893      -0.305\n",
       "ma.L1.D.Value     1.3270      0.145      9.176      0.000       1.044       1.610\n",
       "ma.L2.D.Value     0.5172      0.142      3.646      0.000       0.239       0.795\n",
       "ma.L3.D.Value    -0.0140      0.017     -0.839      0.401      -0.047       0.019\n",
       "                                    Roots                                    \n",
       "=============================================================================\n",
       "                  Real          Imaginary           Modulus         Frequency\n",
       "-----------------------------------------------------------------------------\n",
       "AR.1           -1.1632           -0.5627j            1.2921           -0.4283\n",
       "AR.2           -1.1632           +0.5627j            1.2921            0.4283\n",
       "MA.1           -1.2260           -0.5567j            1.3464           -0.4322\n",
       "MA.2           -1.2260           +0.5567j            1.3464            0.4322\n",
       "MA.3           39.3037           -0.0000j           39.3037           -0.0000\n",
       "-----------------------------------------------------------------------------\n",
       "\"\"\""
      ]
     },
     "execution_count": 13,
     "metadata": {},
     "output_type": "execute_result"
    }
   ],
   "source": [
    "model = ARIMA(train['Value'],order=(2,1,3) )\n",
    "model = model.fit()\n",
    "model.summary()"
   ]
  },
  {
   "cell_type": "markdown",
   "metadata": {},
   "source": [
    "# Make Predictions on Test Set"
   ]
  },
  {
   "cell_type": "code",
   "execution_count": 14,
   "metadata": {
    "colab": {
     "base_uri": "https://localhost:8080/"
    },
    "id": "bjxl8UzqvcPR",
    "outputId": "f9e81a82-45f1-4ccc-cfda-e8bbe63655d8"
   },
   "outputs": [
    {
     "name": "stdout",
     "output_type": "stream",
     "text": [
      "9999     44.288726\n",
      "10000    44.268450\n",
      "10001    44.296044\n",
      "10002    44.280590\n",
      "10003    44.296445\n",
      "           ...    \n",
      "12643    53.864190\n",
      "12644    53.867816\n",
      "12645    53.871442\n",
      "12646    53.875067\n",
      "12647    53.878693\n",
      "Length: 2649, dtype: float64\n",
      "Date\n",
      "2011-03-05    44.288726\n",
      "2011-04-05    44.268450\n",
      "2011-05-05    44.296044\n",
      "2011-06-05    44.280590\n",
      "2011-09-05    44.296445\n",
      "                ...    \n",
      "2021-06-21    53.864190\n",
      "2021-06-22    53.867816\n",
      "2021-06-23    53.871442\n",
      "2021-06-24    53.875067\n",
      "2021-06-25    53.878693\n",
      "Length: 2649, dtype: float64\n"
     ]
    }
   ],
   "source": [
    "#Make Predictions on Test Set\n",
    "start = len(train)\n",
    "end = len(train) + len(test) - 1\n",
    "pred = model.predict(start=start,end=end,typ='levels')\n",
    "print(pred)\n",
    "\n",
    "#Add the dates as index from the data frame\n",
    "\n",
    "pred.index=df.index[start:end+1]\n",
    "print(pred)"
   ]
  },
  {
   "cell_type": "code",
   "execution_count": 16,
   "metadata": {
    "id": "bnWShd2evcT8"
   },
   "outputs": [],
   "source": [
    "from sklearn.metrics import mean_absolute_error\n",
    "from sklearn.metrics import mean_squared_error\n",
    "from sklearn.metrics import r2_score\n",
    "\n",
    "\n",
    "import math \n",
    "\n",
    "from sklearn.metrics import mean_squared_error \n",
    "from math import sqrt "
   ]
  },
  {
   "cell_type": "code",
   "execution_count": 17,
   "metadata": {
    "colab": {
     "base_uri": "https://localhost:8080/"
    },
    "id": "8MKH4UE4vmd0",
    "outputId": "5e497883-f118-44e1-982d-b0c5d558d3e0",
    "scrolled": true
   },
   "outputs": [
    {
     "name": "stdout",
     "output_type": "stream",
     "text": [
      "Mean Absolute Error: 14.894890208282952\n",
      "Mean Squared Error: 248.6480227630807\n",
      "Root Mean Squared Error: 15.768577068432037\n",
      "R Squared: -3.234707662992104\n",
      "Real Currency value Mean: 63.970732012080006\n",
      "RMSE/REAL_CURRENCY_VALUE_MEAN: 0.24649674268936544\n"
     ]
    }
   ],
   "source": [
    "MAE = mean_absolute_error(test['Value'], pred) \n",
    "MSE = mean_squared_error(test['Value'], pred) \n",
    "RMSE = math.sqrt(MSE) \n",
    "R2 = r2_score(test['Value'], pred) \n",
    "real_arima_currency_value_mean = test['Value'].mean()\n",
    "\n",
    "\n",
    "print(\"Mean Absolute Error:\", MAE)\n",
    "print(\"Mean Squared Error:\", MSE)\n",
    "print(\"Root Mean Squared Error:\", RMSE)\n",
    "print(\"R Squared:\", R2)\n",
    "print(\"Real Currency value Mean:\", real_arima_currency_value_mean)\n",
    "print(\"RMSE/REAL_CURRENCY_VALUE_MEAN:\", RMSE/real_arima_currency_value_mean) "
   ]
  },
  {
   "cell_type": "markdown",
   "metadata": {},
   "source": [
    "# Combine train and test data and build final model"
   ]
  },
  {
   "cell_type": "code",
   "execution_count": 21,
   "metadata": {
    "colab": {
     "base_uri": "https://localhost:8080/",
     "height": 235
    },
    "id": "uMwKv4-fvvsw",
    "outputId": "82c4dbf0-6a1a-4e08-8748-a80740ad08de"
   },
   "outputs": [
    {
     "data": {
      "text/html": [
       "<div>\n",
       "<style scoped>\n",
       "    .dataframe tbody tr th:only-of-type {\n",
       "        vertical-align: middle;\n",
       "    }\n",
       "\n",
       "    .dataframe tbody tr th {\n",
       "        vertical-align: top;\n",
       "    }\n",
       "\n",
       "    .dataframe thead th {\n",
       "        text-align: right;\n",
       "    }\n",
       "</style>\n",
       "<table border=\"1\" class=\"dataframe\">\n",
       "  <thead>\n",
       "    <tr style=\"text-align: right;\">\n",
       "      <th></th>\n",
       "      <th>Value</th>\n",
       "    </tr>\n",
       "    <tr>\n",
       "      <th>Date</th>\n",
       "      <th></th>\n",
       "    </tr>\n",
       "  </thead>\n",
       "  <tbody>\n",
       "    <tr>\n",
       "      <th>2021-06-21</th>\n",
       "      <td>74.18</td>\n",
       "    </tr>\n",
       "    <tr>\n",
       "      <th>2021-06-22</th>\n",
       "      <td>74.37</td>\n",
       "    </tr>\n",
       "    <tr>\n",
       "      <th>2021-06-23</th>\n",
       "      <td>74.13</td>\n",
       "    </tr>\n",
       "    <tr>\n",
       "      <th>2021-06-24</th>\n",
       "      <td>74.14</td>\n",
       "    </tr>\n",
       "    <tr>\n",
       "      <th>2021-06-25</th>\n",
       "      <td>74.14</td>\n",
       "    </tr>\n",
       "  </tbody>\n",
       "</table>\n",
       "</div>"
      ],
      "text/plain": [
       "            Value\n",
       "Date             \n",
       "2021-06-21  74.18\n",
       "2021-06-22  74.37\n",
       "2021-06-23  74.13\n",
       "2021-06-24  74.14\n",
       "2021-06-25  74.14"
      ]
     },
     "execution_count": 21,
     "metadata": {},
     "output_type": "execute_result"
    }
   ],
   "source": [
    "model2 = ARIMA(df['Value'], order=(2,1,3))\n",
    "model2= model2.fit()\n",
    "df.tail()"
   ]
  },
  {
   "cell_type": "code",
   "execution_count": 22,
   "metadata": {
    "colab": {
     "base_uri": "https://localhost:8080/"
    },
    "id": "E9cWnCmRvv4t",
    "outputId": "5761c394-38fb-4895-d096-87a452d92a0d"
   },
   "outputs": [
    {
     "data": {
      "text/plain": [
       "(12649, 12679)"
      ]
     },
     "execution_count": 22,
     "metadata": {},
     "output_type": "execute_result"
    }
   ],
   "source": [
    "len(df) , len(df)+30"
   ]
  },
  {
   "cell_type": "markdown",
   "metadata": {},
   "source": [
    "# Forecating data for next 30 days"
   ]
  },
  {
   "cell_type": "code",
   "execution_count": 23,
   "metadata": {
    "colab": {
     "base_uri": "https://localhost:8080/"
    },
    "id": "PyY1ItEDv1zT",
    "outputId": "57b45738-8c28-4c60-cb1b-9cc914bc0655"
   },
   "outputs": [
    {
     "name": "stdout",
     "output_type": "stream",
     "text": [
      "12648    74.133011\n",
      "12649    74.135082\n",
      "12650    74.148443\n",
      "12651    74.160993\n",
      "12652    74.163857\n",
      "12653    74.161728\n",
      "12654    74.164591\n",
      "12655    74.174441\n",
      "12656    74.184297\n",
      "12657    74.188452\n",
      "12658    74.189277\n",
      "12659    74.192809\n",
      "12660    74.200640\n",
      "12661    74.208770\n",
      "12662    74.213567\n",
      "12663    74.216174\n",
      "12664    74.220223\n",
      "12665    74.226901\n",
      "12666    74.233937\n",
      "12667    74.239035\n",
      "12668    74.242712\n",
      "12669    74.247139\n",
      "12670    74.253165\n",
      "12671    74.259511\n",
      "12672    74.264740\n",
      "12673    74.269054\n",
      "12674    74.273748\n",
      "12675    74.279408\n",
      "12676    74.285324\n",
      "12677    74.290599\n",
      "12678    74.295293\n",
      "Name: ARIMA Predictions, dtype: float64\n"
     ]
    }
   ],
   "source": [
    "pred= model2.predict(start=len(df),end=len(df)+30,typ='levels').rename('ARIMA Predictions')\n",
    "print(pred)\n",
    "#pred.index=df[\"Date\"].values\n",
    "#print(pred)"
   ]
  }
 ],
 "metadata": {
  "colab": {
   "collapsed_sections": [],
   "name": "ARIMAmodel_forecasting.ipynb",
   "provenance": []
  },
  "kernelspec": {
   "display_name": "Python 3",
   "language": "python",
   "name": "python3"
  },
  "language_info": {
   "codemirror_mode": {
    "name": "ipython",
    "version": 3
   },
   "file_extension": ".py",
   "mimetype": "text/x-python",
   "name": "python",
   "nbconvert_exporter": "python",
   "pygments_lexer": "ipython3",
   "version": "3.8.5"
  }
 },
 "nbformat": 4,
 "nbformat_minor": 1
}
